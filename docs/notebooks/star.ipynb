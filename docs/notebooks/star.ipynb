{
 "cells": [
  {
   "cell_type": "markdown",
   "metadata": {},
   "source": [
    "# Stellar parameters"
   ]
  },
  {
   "cell_type": "markdown",
   "metadata": {},
   "source": [
    "To compute certain quantities, *nuance* requires the physical parameters of a star, which can be manipulated using the [Star](nuance.Star) object"
   ]
  },
  {
   "cell_type": "code",
   "execution_count": 1,
   "metadata": {},
   "outputs": [],
   "source": [
    "from nuance import Star\n",
    "\n",
    "star = Star(mass=0.159, radius=0.189)"
   ]
  },
  {
   "cell_type": "markdown",
   "metadata": {},
   "source": [
    "## $(\\tau, \\delta)$\n",
    "\n",
    "Given a star with a certain variability period and amplitude, this object can be used to compute the relative $(\\tau, \\delta)$ parameters presented in the nuance [paper](https://arxiv.org/abs/2402.06835):"
   ]
  },
  {
   "cell_type": "code",
   "execution_count": 2,
   "metadata": {},
   "outputs": [
    {
     "name": "stdout",
     "output_type": "stream",
     "text": [
      "tau = 3.46, delta = 9.44\n"
     ]
    }
   ],
   "source": [
    "# stellar variability paramters\n",
    "star.period = 0.45  # days\n",
    "star.amplitude = 0.05\n",
    "\n",
    "tau, delta = star.period2tau(15), star.radius2delta(1.5)\n",
    "print(f\"tau = {tau:.2f}, delta = {delta:.2f}\")"
   ]
  },
  {
   "cell_type": "markdown",
   "metadata": {},
   "source": [
    "which helps indentify where nuance might be beneficial compared to more traditional techniques based on detrending."
   ]
  },
  {
   "cell_type": "markdown",
   "metadata": {},
   "source": [
    "## Optimal grids\n",
    "\n",
    "Another case where the [Star](nuance.Star) object might be useful is to compute optimal grids of search parameters. For example, the optimal grid of periods following [Ofir (2014)](https://ui.adsabs.harvard.edu/abs/2014A%26A...561A.138O/abstract) can be obtained with"
   ]
  },
  {
   "cell_type": "code",
   "execution_count": 3,
   "metadata": {},
   "outputs": [
    {
     "data": {
      "text/plain": [
       "array([0.52420807, 0.5288679 , 0.53361132, 0.5384406 , 0.5433581 ,\n",
       "       0.54836624, 0.55346755, 0.55866468, 0.56396033, 0.56935734,\n",
       "       0.57485864, 0.58046729, 0.58618646, 0.59201946, 0.5979697 ,\n",
       "       0.60404077, 0.61023638, 0.6165604 , 0.62301687, 0.62960999,\n",
       "       0.63634414, 0.64322391, 0.65025407, 0.65743959, 0.6647857 ,\n",
       "       0.67229783, 0.67998167, 0.68784319, 0.69588861, 0.70412446,\n",
       "       0.7125576 , 0.72119518, 0.73004475, 0.73911419, 0.74841181,\n",
       "       0.75794633, 0.76772691, 0.77776322, 0.7880654 , 0.79864417,\n",
       "       0.80951082, 0.82067726, 0.83215607, 0.84396054, 0.85610473,\n",
       "       0.86860353, 0.88147268, 0.89472891, 0.90838994, 0.9224746 ,\n",
       "       0.9370029 , 0.95199615, 0.96747702, 0.98346971, 1.        ])"
      ]
     },
     "execution_count": 3,
     "metadata": {},
     "output_type": "execute_result"
    }
   ],
   "source": [
    "time_span = 2.0  # days\n",
    "\n",
    "star.period_grid(time_span)"
   ]
  },
  {
   "cell_type": "markdown",
   "metadata": {},
   "source": [
    "where the minimum orbital period is found using the Roche limit and its associated period (assuming a circular orbit)"
   ]
  },
  {
   "cell_type": "code",
   "execution_count": 4,
   "metadata": {},
   "outputs": [
    {
     "data": {
      "text/plain": [
       "0.5242080656950339"
      ]
     },
     "execution_count": 4,
     "metadata": {},
     "output_type": "execute_result"
    }
   ],
   "source": [
    "star.roche_period()"
   ]
  }
 ],
 "metadata": {
  "kernelspec": {
   "display_name": "nuance",
   "language": "python",
   "name": "python3"
  },
  "language_info": {
   "codemirror_mode": {
    "name": "ipython",
    "version": 3
   },
   "file_extension": ".py",
   "mimetype": "text/x-python",
   "name": "python",
   "nbconvert_exporter": "python",
   "pygments_lexer": "ipython3",
   "version": "3.10.14"
  }
 },
 "nbformat": 4,
 "nbformat_minor": 2
}
